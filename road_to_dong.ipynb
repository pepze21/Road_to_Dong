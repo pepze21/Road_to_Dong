{
 "cells": [
  {
   "cell_type": "code",
   "execution_count": 101,
   "id": "edada38a",
   "metadata": {},
   "outputs": [],
   "source": [
    "import pandas as pd\n",
    "\n",
    "\n",
    "# pd.set_option('display.max_row', 30000)"
   ]
  },
  {
   "cell_type": "code",
   "execution_count": 102,
   "id": "fea692b2",
   "metadata": {},
   "outputs": [
    {
     "name": "stdout",
     "output_type": "stream",
     "text": [
      "<class 'pandas.core.frame.DataFrame'>\n",
      "RangeIndex: 6318334 entries, 0 to 6318333\n",
      "Data columns (total 14 columns):\n",
      " #   Column       Dtype  \n",
      "---  ------       -----  \n",
      " 0   bld_mngm_no  object \n",
      " 1   rd_nm        object \n",
      " 2   rd_eng_nm    object \n",
      " 3   bld_nm       object \n",
      " 4   bld_eng_nm   float64\n",
      " 5   bld_hmno     int64  \n",
      " 6   bld_hsno     int64  \n",
      " 7   lgdng_cd     int64  \n",
      " 8   adstrd_cd    float64\n",
      " 9   san_yn       int64  \n",
      " 10  hmno_ltno    int64  \n",
      " 11  hsno_ltno    int64  \n",
      " 12  zipcd        float64\n",
      " 13  rd_mngm_no   object \n",
      "dtypes: float64(3), int64(6), object(5)\n",
      "memory usage: 674.9+ MB\n",
      "<class 'pandas.core.frame.DataFrame'>\n",
      "RangeIndex: 21664 entries, 0 to 21663\n",
      "Data columns (total 8 columns):\n",
      " #   Column        Non-Null Count  Dtype  \n",
      "---  ------        --------------  -----  \n",
      " 0   lgdng_cd      21664 non-null  int64  \n",
      " 1   ctpv_nm       21664 non-null  object \n",
      " 2   ctgg_nm       21664 non-null  object \n",
      " 3   adstrd_nm     21664 non-null  object \n",
      " 4   adstrd_en_nm  21663 non-null  object \n",
      " 5   lgdng_nm      21664 non-null  object \n",
      " 6   adstrd_cd     21586 non-null  float64\n",
      " 7   admn_inst_cd  21664 non-null  int64  \n",
      "dtypes: float64(1), int64(2), object(5)\n",
      "memory usage: 1.3+ MB\n"
     ]
    }
   ],
   "source": [
    "df_road = pd.read_csv(\"/Users/2020/road-to-dong/pos00005m.csv\")\n",
    "df_dong = pd.read_csv(\"/Users/2020/road-to-dong/pos00006m.csv\")\n",
    "\n",
    "\n",
    "df_road.info()\n",
    "df_dong.info()"
   ]
  },
  {
   "cell_type": "code",
   "execution_count": 103,
   "id": "cfa8a9f4",
   "metadata": {},
   "outputs": [],
   "source": [
    "# pd_series 예시 : df_road['rd_nm']\n",
    "def road_to_dong(pd_series):\n",
    "    for index in range(len(pd_series)):\n",
    "        temp=pd_series[index]\n",
    "        df_temp = df_road[df_road['rd_nm']==temp]\n",
    "        adstrd_cd = df_temp['adstrd_cd'].iloc[0]\n",
    "        df_temp = df_dong[df_dong['admn_inst_cd']==adstrd_cd]\n",
    "        adstrd_nm = df_temp.iloc[0]['adstrd_nm']\n",
    "        pd_series[index] = adstrd_nm\n",
    "    return pd_series"
   ]
  },
  {
   "cell_type": "code",
   "execution_count": 113,
   "id": "f9cfc877",
   "metadata": {},
   "outputs": [],
   "source": [
    "df_road_sample = df_road['rd_nm'].copy()[:50]"
   ]
  },
  {
   "cell_type": "code",
   "execution_count": 114,
   "id": "4fb7c714",
   "metadata": {
    "scrolled": true
   },
   "outputs": [
    {
     "data": {
      "text/plain": [
       "0          가운로1길\n",
       "1          가운로1길\n",
       "2          가운로1길\n",
       "3       경춘로859번길\n",
       "4        덕송2로6번길\n",
       "5       별내5로23번길\n",
       "6            인주로\n",
       "7            대미길\n",
       "8           신상2길\n",
       "9           낙동4길\n",
       "10         다산산단로\n",
       "11          개경포로\n",
       "12          쾌빈2길\n",
       "13          쾌빈2길\n",
       "14      초전북로52번길\n",
       "15      사곡로124번길\n",
       "16      연꽃로165번길\n",
       "17       삼일로95번길\n",
       "18           상미로\n",
       "19          볼음도길\n",
       "20      시도로104번길\n",
       "21          청하동길\n",
       "22    봉수대로1568번길\n",
       "23          어사대로\n",
       "24          봉선1로\n",
       "25      영흥북로35번길\n",
       "26           사동길\n",
       "27          서창2길\n",
       "28         월드컵서로\n",
       "29         풍암중앙로\n",
       "30     회재로1293번길\n",
       "31          서문대로\n",
       "32          풍서우로\n",
       "33          신만산길\n",
       "34      영흥로722번길\n",
       "35          영흥서로\n",
       "36           영흥로\n",
       "37      영흥로544번길\n",
       "38          천변좌로\n",
       "39     천변좌로382번길\n",
       "40          봉주5길\n",
       "41           회재로\n",
       "42          천변좌로\n",
       "43           서동로\n",
       "44           사직길\n",
       "45           구성로\n",
       "46      살곶이길86번길\n",
       "47      원적로449번길\n",
       "48           덕목길\n",
       "49           설성로\n",
       "Name: rd_nm, dtype: object"
      ]
     },
     "execution_count": 114,
     "metadata": {},
     "output_type": "execute_result"
    }
   ],
   "source": [
    "df_road_sample"
   ]
  },
  {
   "cell_type": "code",
   "execution_count": 115,
   "id": "875ed31a",
   "metadata": {},
   "outputs": [
    {
     "data": {
      "text/plain": [
       "50"
      ]
     },
     "execution_count": 115,
     "metadata": {},
     "output_type": "execute_result"
    }
   ],
   "source": [
    "len(df_road_sample)"
   ]
  },
  {
   "cell_type": "code",
   "execution_count": 116,
   "id": "8f393382",
   "metadata": {},
   "outputs": [],
   "source": [
    "df_get_dong = road_to_dong(df_road_sample)"
   ]
  },
  {
   "cell_type": "code",
   "execution_count": 117,
   "id": "87579821",
   "metadata": {},
   "outputs": [
    {
     "data": {
      "text/plain": [
       "0         다산2동\n",
       "1         다산2동\n",
       "2         다산2동\n",
       "3          금곡동\n",
       "4          별내동\n",
       "5          별내동\n",
       "6          인주면\n",
       "7          화동면\n",
       "8          낙동면\n",
       "9     낙동면동부출장소\n",
       "10         다산면\n",
       "11         성산면\n",
       "12        대가야읍\n",
       "13        대가야읍\n",
       "14         초장동\n",
       "15         수곡면\n",
       "16         정촌면\n",
       "17         정촌면\n",
       "18         미천면\n",
       "19    서도면볼음출장소\n",
       "20         북도면\n",
       "21         강화읍\n",
       "22         검단동\n",
       "23        계산1동\n",
       "24        봉선1동\n",
       "25         영흥면\n",
       "26         서창동\n",
       "27         서창동\n",
       "28         풍암동\n",
       "29         풍암동\n",
       "30        백운2동\n",
       "31        주월1동\n",
       "32         서창동\n",
       "33         대촌동\n",
       "34         영흥면\n",
       "35         영흥면\n",
       "36         영흥면\n",
       "37         영흥면\n",
       "38         사직동\n",
       "39         사직동\n",
       "40        주월2동\n",
       "41        주월1동\n",
       "42         사직동\n",
       "43         사직동\n",
       "44         사직동\n",
       "45         사직동\n",
       "46         서신면\n",
       "47         신둔면\n",
       "48         우정읍\n",
       "49         설성면\n",
       "Name: rd_nm, dtype: object"
      ]
     },
     "execution_count": 117,
     "metadata": {},
     "output_type": "execute_result"
    }
   ],
   "source": [
    "df_get_dong"
   ]
  },
  {
   "cell_type": "code",
   "execution_count": 92,
   "id": "0e7d8dfc",
   "metadata": {},
   "outputs": [],
   "source": [
    "# pd_series 예시 : df_road['rd_nm']\n",
    "def road_to_dong(pd_series):\n",
    "    for index in range(len(pd_series)):\n",
    "        adstrd_cd = df_road[df_road['rd_nm']==pd_series[index]]['adstrd_cd'].iloc[0]\n",
    "        pd_series[index] = df_dong[df_dong['admn_inst_cd']==adstrd_cd].iloc[0]['adstrd_nm']\n",
    "    return pd_series"
   ]
  },
  {
   "cell_type": "code",
   "execution_count": 93,
   "id": "76e10f4b",
   "metadata": {},
   "outputs": [
    {
     "ename": "IndexError",
     "evalue": "single positional indexer is out-of-bounds",
     "output_type": "error",
     "traceback": [
      "\u001b[1;31m---------------------------------------------------------------------------\u001b[0m",
      "\u001b[1;31mIndexError\u001b[0m                                Traceback (most recent call last)",
      "\u001b[1;32m<ipython-input-93-523bc72d50a9>\u001b[0m in \u001b[0;36m<module>\u001b[1;34m\u001b[0m\n\u001b[1;32m----> 1\u001b[1;33m \u001b[0mdf_get_cd\u001b[0m \u001b[1;33m=\u001b[0m \u001b[0mroad_to_cd\u001b[0m\u001b[1;33m(\u001b[0m\u001b[0mdf_road_sample\u001b[0m\u001b[1;33m)\u001b[0m\u001b[1;33m\u001b[0m\u001b[1;33m\u001b[0m\u001b[0m\n\u001b[0m",
      "\u001b[1;32m<ipython-input-92-6e5b3ca09a7d>\u001b[0m in \u001b[0;36mroad_to_cd\u001b[1;34m(pd_series)\u001b[0m\n\u001b[0;32m      2\u001b[0m \u001b[1;32mdef\u001b[0m \u001b[0mroad_to_cd\u001b[0m\u001b[1;33m(\u001b[0m\u001b[0mpd_series\u001b[0m\u001b[1;33m)\u001b[0m\u001b[1;33m:\u001b[0m\u001b[1;33m\u001b[0m\u001b[1;33m\u001b[0m\u001b[0m\n\u001b[0;32m      3\u001b[0m     \u001b[1;32mfor\u001b[0m \u001b[0mindex\u001b[0m \u001b[1;32min\u001b[0m \u001b[0mrange\u001b[0m\u001b[1;33m(\u001b[0m\u001b[0mlen\u001b[0m\u001b[1;33m(\u001b[0m\u001b[0mpd_series\u001b[0m\u001b[1;33m)\u001b[0m\u001b[1;33m)\u001b[0m\u001b[1;33m:\u001b[0m\u001b[1;33m\u001b[0m\u001b[1;33m\u001b[0m\u001b[0m\n\u001b[1;32m----> 4\u001b[1;33m         \u001b[0mpd_series\u001b[0m\u001b[1;33m[\u001b[0m\u001b[0mindex\u001b[0m\u001b[1;33m]\u001b[0m \u001b[1;33m=\u001b[0m \u001b[0mdf_road\u001b[0m\u001b[1;33m[\u001b[0m\u001b[0mdf_road\u001b[0m\u001b[1;33m[\u001b[0m\u001b[1;34m'rd_nm'\u001b[0m\u001b[1;33m]\u001b[0m\u001b[1;33m==\u001b[0m\u001b[0mpd_series\u001b[0m\u001b[1;33m[\u001b[0m\u001b[0mindex\u001b[0m\u001b[1;33m]\u001b[0m\u001b[1;33m]\u001b[0m\u001b[1;33m[\u001b[0m\u001b[1;34m'adstrd_cd'\u001b[0m\u001b[1;33m]\u001b[0m\u001b[1;33m.\u001b[0m\u001b[0miloc\u001b[0m\u001b[1;33m[\u001b[0m\u001b[1;36m0\u001b[0m\u001b[1;33m]\u001b[0m\u001b[1;33m\u001b[0m\u001b[1;33m\u001b[0m\u001b[0m\n\u001b[0m\u001b[0;32m      5\u001b[0m     \u001b[1;32mreturn\u001b[0m \u001b[0mpd_series\u001b[0m\u001b[1;33m\u001b[0m\u001b[1;33m\u001b[0m\u001b[0m\n",
      "\u001b[1;32mC:\\ProgramData\\Anaconda3\\lib\\site-packages\\pandas\\core\\indexing.py\u001b[0m in \u001b[0;36m__getitem__\u001b[1;34m(self, key)\u001b[0m\n\u001b[0;32m    893\u001b[0m \u001b[1;33m\u001b[0m\u001b[0m\n\u001b[0;32m    894\u001b[0m             \u001b[0mmaybe_callable\u001b[0m \u001b[1;33m=\u001b[0m \u001b[0mcom\u001b[0m\u001b[1;33m.\u001b[0m\u001b[0mapply_if_callable\u001b[0m\u001b[1;33m(\u001b[0m\u001b[0mkey\u001b[0m\u001b[1;33m,\u001b[0m \u001b[0mself\u001b[0m\u001b[1;33m.\u001b[0m\u001b[0mobj\u001b[0m\u001b[1;33m)\u001b[0m\u001b[1;33m\u001b[0m\u001b[1;33m\u001b[0m\u001b[0m\n\u001b[1;32m--> 895\u001b[1;33m             \u001b[1;32mreturn\u001b[0m \u001b[0mself\u001b[0m\u001b[1;33m.\u001b[0m\u001b[0m_getitem_axis\u001b[0m\u001b[1;33m(\u001b[0m\u001b[0mmaybe_callable\u001b[0m\u001b[1;33m,\u001b[0m \u001b[0maxis\u001b[0m\u001b[1;33m=\u001b[0m\u001b[0maxis\u001b[0m\u001b[1;33m)\u001b[0m\u001b[1;33m\u001b[0m\u001b[1;33m\u001b[0m\u001b[0m\n\u001b[0m\u001b[0;32m    896\u001b[0m \u001b[1;33m\u001b[0m\u001b[0m\n\u001b[0;32m    897\u001b[0m     \u001b[1;32mdef\u001b[0m \u001b[0m_is_scalar_access\u001b[0m\u001b[1;33m(\u001b[0m\u001b[0mself\u001b[0m\u001b[1;33m,\u001b[0m \u001b[0mkey\u001b[0m\u001b[1;33m:\u001b[0m \u001b[0mTuple\u001b[0m\u001b[1;33m)\u001b[0m\u001b[1;33m:\u001b[0m\u001b[1;33m\u001b[0m\u001b[1;33m\u001b[0m\u001b[0m\n",
      "\u001b[1;32mC:\\ProgramData\\Anaconda3\\lib\\site-packages\\pandas\\core\\indexing.py\u001b[0m in \u001b[0;36m_getitem_axis\u001b[1;34m(self, key, axis)\u001b[0m\n\u001b[0;32m   1499\u001b[0m \u001b[1;33m\u001b[0m\u001b[0m\n\u001b[0;32m   1500\u001b[0m             \u001b[1;31m# validate the location\u001b[0m\u001b[1;33m\u001b[0m\u001b[1;33m\u001b[0m\u001b[1;33m\u001b[0m\u001b[0m\n\u001b[1;32m-> 1501\u001b[1;33m             \u001b[0mself\u001b[0m\u001b[1;33m.\u001b[0m\u001b[0m_validate_integer\u001b[0m\u001b[1;33m(\u001b[0m\u001b[0mkey\u001b[0m\u001b[1;33m,\u001b[0m \u001b[0maxis\u001b[0m\u001b[1;33m)\u001b[0m\u001b[1;33m\u001b[0m\u001b[1;33m\u001b[0m\u001b[0m\n\u001b[0m\u001b[0;32m   1502\u001b[0m \u001b[1;33m\u001b[0m\u001b[0m\n\u001b[0;32m   1503\u001b[0m             \u001b[1;32mreturn\u001b[0m \u001b[0mself\u001b[0m\u001b[1;33m.\u001b[0m\u001b[0mobj\u001b[0m\u001b[1;33m.\u001b[0m\u001b[0m_ixs\u001b[0m\u001b[1;33m(\u001b[0m\u001b[0mkey\u001b[0m\u001b[1;33m,\u001b[0m \u001b[0maxis\u001b[0m\u001b[1;33m=\u001b[0m\u001b[0maxis\u001b[0m\u001b[1;33m)\u001b[0m\u001b[1;33m\u001b[0m\u001b[1;33m\u001b[0m\u001b[0m\n",
      "\u001b[1;32mC:\\ProgramData\\Anaconda3\\lib\\site-packages\\pandas\\core\\indexing.py\u001b[0m in \u001b[0;36m_validate_integer\u001b[1;34m(self, key, axis)\u001b[0m\n\u001b[0;32m   1442\u001b[0m         \u001b[0mlen_axis\u001b[0m \u001b[1;33m=\u001b[0m \u001b[0mlen\u001b[0m\u001b[1;33m(\u001b[0m\u001b[0mself\u001b[0m\u001b[1;33m.\u001b[0m\u001b[0mobj\u001b[0m\u001b[1;33m.\u001b[0m\u001b[0m_get_axis\u001b[0m\u001b[1;33m(\u001b[0m\u001b[0maxis\u001b[0m\u001b[1;33m)\u001b[0m\u001b[1;33m)\u001b[0m\u001b[1;33m\u001b[0m\u001b[1;33m\u001b[0m\u001b[0m\n\u001b[0;32m   1443\u001b[0m         \u001b[1;32mif\u001b[0m \u001b[0mkey\u001b[0m \u001b[1;33m>=\u001b[0m \u001b[0mlen_axis\u001b[0m \u001b[1;32mor\u001b[0m \u001b[0mkey\u001b[0m \u001b[1;33m<\u001b[0m \u001b[1;33m-\u001b[0m\u001b[0mlen_axis\u001b[0m\u001b[1;33m:\u001b[0m\u001b[1;33m\u001b[0m\u001b[1;33m\u001b[0m\u001b[0m\n\u001b[1;32m-> 1444\u001b[1;33m             \u001b[1;32mraise\u001b[0m \u001b[0mIndexError\u001b[0m\u001b[1;33m(\u001b[0m\u001b[1;34m\"single positional indexer is out-of-bounds\"\u001b[0m\u001b[1;33m)\u001b[0m\u001b[1;33m\u001b[0m\u001b[1;33m\u001b[0m\u001b[0m\n\u001b[0m\u001b[0;32m   1445\u001b[0m \u001b[1;33m\u001b[0m\u001b[0m\n\u001b[0;32m   1446\u001b[0m     \u001b[1;31m# -------------------------------------------------------------------\u001b[0m\u001b[1;33m\u001b[0m\u001b[1;33m\u001b[0m\u001b[1;33m\u001b[0m\u001b[0m\n",
      "\u001b[1;31mIndexError\u001b[0m: single positional indexer is out-of-bounds"
     ]
    }
   ],
   "source": []
  },
  {
   "cell_type": "code",
   "execution_count": null,
   "id": "7a4ec8fe",
   "metadata": {},
   "outputs": [],
   "source": []
  },
  {
   "cell_type": "code",
   "execution_count": 119,
   "id": "b8d21fc7",
   "metadata": {},
   "outputs": [
    {
     "data": {
      "text/html": [
       "<div>\n",
       "<style scoped>\n",
       "    .dataframe tbody tr th:only-of-type {\n",
       "        vertical-align: middle;\n",
       "    }\n",
       "\n",
       "    .dataframe tbody tr th {\n",
       "        vertical-align: top;\n",
       "    }\n",
       "\n",
       "    .dataframe thead th {\n",
       "        text-align: right;\n",
       "    }\n",
       "</style>\n",
       "<table border=\"1\" class=\"dataframe\">\n",
       "  <thead>\n",
       "    <tr style=\"text-align: right;\">\n",
       "      <th></th>\n",
       "      <th>bld_mngm_no</th>\n",
       "      <th>rd_nm</th>\n",
       "      <th>rd_eng_nm</th>\n",
       "      <th>bld_nm</th>\n",
       "      <th>bld_eng_nm</th>\n",
       "      <th>bld_hmno</th>\n",
       "      <th>bld_hsno</th>\n",
       "      <th>lgdng_cd</th>\n",
       "      <th>adstrd_cd</th>\n",
       "      <th>san_yn</th>\n",
       "      <th>hmno_ltno</th>\n",
       "      <th>hsno_ltno</th>\n",
       "      <th>zipcd</th>\n",
       "      <th>rd_mngm_no</th>\n",
       "    </tr>\n",
       "  </thead>\n",
       "  <tbody>\n",
       "    <tr>\n",
       "      <th>510209</th>\n",
       "      <td>1168010100108220000024019</td>\n",
       "      <td>테헤란로</td>\n",
       "      <td>Teheran-ro</td>\n",
       "      <td>명선상가빌딩</td>\n",
       "      <td>NaN</td>\n",
       "      <td>103</td>\n",
       "      <td>0</td>\n",
       "      <td>1168010100</td>\n",
       "      <td>1.168064e+09</td>\n",
       "      <td>0</td>\n",
       "      <td>822</td>\n",
       "      <td>0</td>\n",
       "      <td>135933.0</td>\n",
       "      <td>1168010100108220000024019</td>\n",
       "    </tr>\n",
       "    <tr>\n",
       "      <th>524843</th>\n",
       "      <td>1168010600109960000012055</td>\n",
       "      <td>테헤란로</td>\n",
       "      <td>Teheran-ro</td>\n",
       "      <td>슈페리어사옥</td>\n",
       "      <td>NaN</td>\n",
       "      <td>614</td>\n",
       "      <td>0</td>\n",
       "      <td>1168010600</td>\n",
       "      <td>1.168061e+09</td>\n",
       "      <td>0</td>\n",
       "      <td>996</td>\n",
       "      <td>0</td>\n",
       "      <td>135502.0</td>\n",
       "      <td>1168010600109960000012055</td>\n",
       "    </tr>\n",
       "    <tr>\n",
       "      <th>761214</th>\n",
       "      <td>1168010100107050029022378</td>\n",
       "      <td>테헤란로</td>\n",
       "      <td>Teheran-ro</td>\n",
       "      <td>NaN</td>\n",
       "      <td>NaN</td>\n",
       "      <td>339</td>\n",
       "      <td>0</td>\n",
       "      <td>1168010100</td>\n",
       "      <td>1.168064e+09</td>\n",
       "      <td>0</td>\n",
       "      <td>705</td>\n",
       "      <td>30</td>\n",
       "      <td>NaN</td>\n",
       "      <td>1168010100107050029022378</td>\n",
       "    </tr>\n",
       "    <tr>\n",
       "      <th>1610171</th>\n",
       "      <td>1168010500101440022016954</td>\n",
       "      <td>테헤란로</td>\n",
       "      <td>Teheran-ro</td>\n",
       "      <td>삼영빌딩</td>\n",
       "      <td>NaN</td>\n",
       "      <td>437</td>\n",
       "      <td>0</td>\n",
       "      <td>1168010500</td>\n",
       "      <td>1.168059e+09</td>\n",
       "      <td>0</td>\n",
       "      <td>144</td>\n",
       "      <td>22</td>\n",
       "      <td>135877.0</td>\n",
       "      <td>1168010500101440022016954</td>\n",
       "    </tr>\n",
       "    <tr>\n",
       "      <th>1991571</th>\n",
       "      <td>1168010100107360001023747</td>\n",
       "      <td>테헤란로</td>\n",
       "      <td>Teheran-ro</td>\n",
       "      <td>캐피탈타워</td>\n",
       "      <td>NaN</td>\n",
       "      <td>142</td>\n",
       "      <td>0</td>\n",
       "      <td>1168010100</td>\n",
       "      <td>1.168064e+09</td>\n",
       "      <td>0</td>\n",
       "      <td>736</td>\n",
       "      <td>1</td>\n",
       "      <td>135924.0</td>\n",
       "      <td>1168010100107360001023747</td>\n",
       "    </tr>\n",
       "    <tr>\n",
       "      <th>...</th>\n",
       "      <td>...</td>\n",
       "      <td>...</td>\n",
       "      <td>...</td>\n",
       "      <td>...</td>\n",
       "      <td>...</td>\n",
       "      <td>...</td>\n",
       "      <td>...</td>\n",
       "      <td>...</td>\n",
       "      <td>...</td>\n",
       "      <td>...</td>\n",
       "      <td>...</td>\n",
       "      <td>...</td>\n",
       "      <td>...</td>\n",
       "      <td>...</td>\n",
       "    </tr>\n",
       "    <tr>\n",
       "      <th>5990265</th>\n",
       "      <td>1168010100108040000000008</td>\n",
       "      <td>테헤란로</td>\n",
       "      <td>Teheran-ro</td>\n",
       "      <td>NaN</td>\n",
       "      <td>NaN</td>\n",
       "      <td>206</td>\n",
       "      <td>2</td>\n",
       "      <td>1168010100</td>\n",
       "      <td>1.168065e+09</td>\n",
       "      <td>0</td>\n",
       "      <td>804</td>\n",
       "      <td>0</td>\n",
       "      <td>NaN</td>\n",
       "      <td>1168010100108040000000008</td>\n",
       "    </tr>\n",
       "    <tr>\n",
       "      <th>6171477</th>\n",
       "      <td>1168010100107200001000001</td>\n",
       "      <td>테헤란로</td>\n",
       "      <td>Teheran-ro</td>\n",
       "      <td>NaN</td>\n",
       "      <td>NaN</td>\n",
       "      <td>232</td>\n",
       "      <td>0</td>\n",
       "      <td>1168010100</td>\n",
       "      <td>1.168065e+09</td>\n",
       "      <td>0</td>\n",
       "      <td>720</td>\n",
       "      <td>1</td>\n",
       "      <td>135920.0</td>\n",
       "      <td>1168010100107200001000001</td>\n",
       "    </tr>\n",
       "    <tr>\n",
       "      <th>6190502</th>\n",
       "      <td>1168010100106780039000001</td>\n",
       "      <td>테헤란로</td>\n",
       "      <td>Teheran-ro</td>\n",
       "      <td>NaN</td>\n",
       "      <td>NaN</td>\n",
       "      <td>211</td>\n",
       "      <td>0</td>\n",
       "      <td>1168010100</td>\n",
       "      <td>1.168064e+09</td>\n",
       "      <td>0</td>\n",
       "      <td>678</td>\n",
       "      <td>39</td>\n",
       "      <td>135915.0</td>\n",
       "      <td>1168010100106780039000001</td>\n",
       "    </tr>\n",
       "    <tr>\n",
       "      <th>6190615</th>\n",
       "      <td>1168010500101410031017036</td>\n",
       "      <td>테헤란로</td>\n",
       "      <td>Teheran-ro</td>\n",
       "      <td>NaN</td>\n",
       "      <td>NaN</td>\n",
       "      <td>407</td>\n",
       "      <td>0</td>\n",
       "      <td>1168010500</td>\n",
       "      <td>1.168059e+09</td>\n",
       "      <td>0</td>\n",
       "      <td>141</td>\n",
       "      <td>31</td>\n",
       "      <td>135876.0</td>\n",
       "      <td>1168010500101410031017036</td>\n",
       "    </tr>\n",
       "    <tr>\n",
       "      <th>6250439</th>\n",
       "      <td>1168010100107070004000001</td>\n",
       "      <td>테헤란로</td>\n",
       "      <td>Teheran-ro</td>\n",
       "      <td>메트라이프타워</td>\n",
       "      <td>NaN</td>\n",
       "      <td>316</td>\n",
       "      <td>0</td>\n",
       "      <td>1168010100</td>\n",
       "      <td>1.168065e+09</td>\n",
       "      <td>0</td>\n",
       "      <td>707</td>\n",
       "      <td>5</td>\n",
       "      <td>135918.0</td>\n",
       "      <td>1168010100107070004000001</td>\n",
       "    </tr>\n",
       "  </tbody>\n",
       "</table>\n",
       "<p>193 rows × 14 columns</p>\n",
       "</div>"
      ],
      "text/plain": [
       "                       bld_mngm_no rd_nm   rd_eng_nm   bld_nm  bld_eng_nm  \\\n",
       "510209   1168010100108220000024019  테헤란로  Teheran-ro   명선상가빌딩         NaN   \n",
       "524843   1168010600109960000012055  테헤란로  Teheran-ro   슈페리어사옥         NaN   \n",
       "761214   1168010100107050029022378  테헤란로  Teheran-ro      NaN         NaN   \n",
       "1610171  1168010500101440022016954  테헤란로  Teheran-ro     삼영빌딩         NaN   \n",
       "1991571  1168010100107360001023747  테헤란로  Teheran-ro    캐피탈타워         NaN   \n",
       "...                            ...   ...         ...      ...         ...   \n",
       "5990265  1168010100108040000000008  테헤란로  Teheran-ro      NaN         NaN   \n",
       "6171477  1168010100107200001000001  테헤란로  Teheran-ro      NaN         NaN   \n",
       "6190502  1168010100106780039000001  테헤란로  Teheran-ro      NaN         NaN   \n",
       "6190615  1168010500101410031017036  테헤란로  Teheran-ro      NaN         NaN   \n",
       "6250439  1168010100107070004000001  테헤란로  Teheran-ro  메트라이프타워         NaN   \n",
       "\n",
       "         bld_hmno  bld_hsno    lgdng_cd     adstrd_cd  san_yn  hmno_ltno  \\\n",
       "510209        103         0  1168010100  1.168064e+09       0        822   \n",
       "524843        614         0  1168010600  1.168061e+09       0        996   \n",
       "761214        339         0  1168010100  1.168064e+09       0        705   \n",
       "1610171       437         0  1168010500  1.168059e+09       0        144   \n",
       "1991571       142         0  1168010100  1.168064e+09       0        736   \n",
       "...           ...       ...         ...           ...     ...        ...   \n",
       "5990265       206         2  1168010100  1.168065e+09       0        804   \n",
       "6171477       232         0  1168010100  1.168065e+09       0        720   \n",
       "6190502       211         0  1168010100  1.168064e+09       0        678   \n",
       "6190615       407         0  1168010500  1.168059e+09       0        141   \n",
       "6250439       316         0  1168010100  1.168065e+09       0        707   \n",
       "\n",
       "         hsno_ltno     zipcd                 rd_mngm_no  \n",
       "510209           0  135933.0  1168010100108220000024019  \n",
       "524843           0  135502.0  1168010600109960000012055  \n",
       "761214          30       NaN  1168010100107050029022378  \n",
       "1610171         22  135877.0  1168010500101440022016954  \n",
       "1991571          1  135924.0  1168010100107360001023747  \n",
       "...            ...       ...                        ...  \n",
       "5990265          0       NaN  1168010100108040000000008  \n",
       "6171477          1  135920.0  1168010100107200001000001  \n",
       "6190502         39  135915.0  1168010100106780039000001  \n",
       "6190615         31  135876.0  1168010500101410031017036  \n",
       "6250439          5  135918.0  1168010100107070004000001  \n",
       "\n",
       "[193 rows x 14 columns]"
      ]
     },
     "execution_count": 119,
     "metadata": {},
     "output_type": "execute_result"
    }
   ],
   "source": [
    "df_road[df_road['rd_nm']=='테헤란로']"
   ]
  },
  {
   "cell_type": "code",
   "execution_count": 82,
   "id": "37c9a83b",
   "metadata": {},
   "outputs": [
    {
     "data": {
      "text/plain": [
       "0        다산2동\n",
       "1        다산2동\n",
       "2        다산2동\n",
       "3         금곡동\n",
       "4         별내동\n",
       "5         별내동\n",
       "6         인주면\n",
       "7         화동면\n",
       "8         낙동면\n",
       "9    낙동면동부출장소\n",
       "Name: rd_nm, dtype: object"
      ]
     },
     "execution_count": 82,
     "metadata": {},
     "output_type": "execute_result"
    }
   ],
   "source": [
    "df_get_dong"
   ]
  },
  {
   "cell_type": "code",
   "execution_count": null,
   "id": "a4fb811e",
   "metadata": {},
   "outputs": [],
   "source": [
    "# pd_series 예시 : df_road['rd_nm']\n",
    "def road_to_dong(pd_series):\n",
    "    for index in pd_series.index:\n",
    "        adstrd_cd = df_road[df_road['rd_nm']==pd_series[index]]['adstrd_cd'].iloc[0]\n",
    "        pd_series[index] = df_dong[df_dong['admn_inst_cd']==adstrd_cd].iloc[0]['adstrd_nm']\n",
    "        return pd_series"
   ]
  },
  {
   "cell_type": "code",
   "execution_count": 67,
   "id": "fa8e7cbc",
   "metadata": {},
   "outputs": [],
   "source": [
    "# pd_series 예시 : df_road['rd_nm']\n",
    "def road_to_adstrd_cd(pd_series):\n",
    "    for index in pd_series.index:\n",
    "        pd_series[index] = df_road[df_road['rd_nm']==pd_series[index]]['adstrd_cd'].iloc[0]\n",
    "        return pd_series"
   ]
  },
  {
   "cell_type": "code",
   "execution_count": 68,
   "id": "370237fd",
   "metadata": {},
   "outputs": [
    {
     "name": "stderr",
     "output_type": "stream",
     "text": [
      "<ipython-input-67-c4c6fa345193>:4: FutureWarning: Automatic reindexing on DataFrame vs Series comparisons is deprecated and will raise ValueError in a future version.  Do `left, right = left.align(right, axis=1, copy=False)` before e.g. `left == right`\n",
      "  pd_series[index] = df_road[df_road['rd_nm']==pd_series[index]]['adstrd_cd'].iloc[0]\n"
     ]
    },
    {
     "ename": "KeyboardInterrupt",
     "evalue": "",
     "output_type": "error",
     "traceback": [
      "\u001b[1;31m---------------------------------------------------------------------------\u001b[0m",
      "\u001b[1;31mKeyboardInterrupt\u001b[0m                         Traceback (most recent call last)",
      "\u001b[1;32m<ipython-input-68-d32c4b16c353>\u001b[0m in \u001b[0;36m<module>\u001b[1;34m\u001b[0m\n\u001b[1;32m----> 1\u001b[1;33m \u001b[0mdf_get_dong\u001b[0m \u001b[1;33m=\u001b[0m \u001b[0mroad_to_adstrd_cd\u001b[0m\u001b[1;33m(\u001b[0m\u001b[0mdf_road_sample\u001b[0m\u001b[1;33m)\u001b[0m\u001b[1;33m\u001b[0m\u001b[1;33m\u001b[0m\u001b[0m\n\u001b[0m",
      "\u001b[1;32m<ipython-input-67-c4c6fa345193>\u001b[0m in \u001b[0;36mroad_to_adstrd_cd\u001b[1;34m(pd_series)\u001b[0m\n\u001b[0;32m      2\u001b[0m \u001b[1;32mdef\u001b[0m \u001b[0mroad_to_adstrd_cd\u001b[0m\u001b[1;33m(\u001b[0m\u001b[0mpd_series\u001b[0m\u001b[1;33m)\u001b[0m\u001b[1;33m:\u001b[0m\u001b[1;33m\u001b[0m\u001b[1;33m\u001b[0m\u001b[0m\n\u001b[0;32m      3\u001b[0m     \u001b[1;32mfor\u001b[0m \u001b[0mindex\u001b[0m \u001b[1;32min\u001b[0m \u001b[0mpd_series\u001b[0m\u001b[1;33m.\u001b[0m\u001b[0mindex\u001b[0m\u001b[1;33m:\u001b[0m\u001b[1;33m\u001b[0m\u001b[1;33m\u001b[0m\u001b[0m\n\u001b[1;32m----> 4\u001b[1;33m         \u001b[0mpd_series\u001b[0m\u001b[1;33m[\u001b[0m\u001b[0mindex\u001b[0m\u001b[1;33m]\u001b[0m \u001b[1;33m=\u001b[0m \u001b[0mdf_road\u001b[0m\u001b[1;33m[\u001b[0m\u001b[0mdf_road\u001b[0m\u001b[1;33m[\u001b[0m\u001b[1;34m'rd_nm'\u001b[0m\u001b[1;33m]\u001b[0m\u001b[1;33m==\u001b[0m\u001b[0mpd_series\u001b[0m\u001b[1;33m[\u001b[0m\u001b[0mindex\u001b[0m\u001b[1;33m]\u001b[0m\u001b[1;33m]\u001b[0m\u001b[1;33m[\u001b[0m\u001b[1;34m'adstrd_cd'\u001b[0m\u001b[1;33m]\u001b[0m\u001b[1;33m.\u001b[0m\u001b[0miloc\u001b[0m\u001b[1;33m[\u001b[0m\u001b[1;36m0\u001b[0m\u001b[1;33m]\u001b[0m\u001b[1;33m\u001b[0m\u001b[1;33m\u001b[0m\u001b[0m\n\u001b[0m\u001b[0;32m      5\u001b[0m         \u001b[1;32mreturn\u001b[0m \u001b[0mpd_series\u001b[0m\u001b[1;33m\u001b[0m\u001b[1;33m\u001b[0m\u001b[0m\n",
      "\u001b[1;32mC:\\ProgramData\\Anaconda3\\lib\\site-packages\\pandas\\core\\ops\\common.py\u001b[0m in \u001b[0;36mnew_method\u001b[1;34m(self, other)\u001b[0m\n\u001b[0;32m     63\u001b[0m         \u001b[0mother\u001b[0m \u001b[1;33m=\u001b[0m \u001b[0mitem_from_zerodim\u001b[0m\u001b[1;33m(\u001b[0m\u001b[0mother\u001b[0m\u001b[1;33m)\u001b[0m\u001b[1;33m\u001b[0m\u001b[1;33m\u001b[0m\u001b[0m\n\u001b[0;32m     64\u001b[0m \u001b[1;33m\u001b[0m\u001b[0m\n\u001b[1;32m---> 65\u001b[1;33m         \u001b[1;32mreturn\u001b[0m \u001b[0mmethod\u001b[0m\u001b[1;33m(\u001b[0m\u001b[0mself\u001b[0m\u001b[1;33m,\u001b[0m \u001b[0mother\u001b[0m\u001b[1;33m)\u001b[0m\u001b[1;33m\u001b[0m\u001b[1;33m\u001b[0m\u001b[0m\n\u001b[0m\u001b[0;32m     66\u001b[0m \u001b[1;33m\u001b[0m\u001b[0m\n\u001b[0;32m     67\u001b[0m     \u001b[1;32mreturn\u001b[0m \u001b[0mnew_method\u001b[0m\u001b[1;33m\u001b[0m\u001b[1;33m\u001b[0m\u001b[0m\n",
      "\u001b[1;32mC:\\ProgramData\\Anaconda3\\lib\\site-packages\\pandas\\core\\arraylike.py\u001b[0m in \u001b[0;36m__eq__\u001b[1;34m(self, other)\u001b[0m\n\u001b[0;32m     27\u001b[0m     \u001b[1;33m@\u001b[0m\u001b[0munpack_zerodim_and_defer\u001b[0m\u001b[1;33m(\u001b[0m\u001b[1;34m\"__eq__\"\u001b[0m\u001b[1;33m)\u001b[0m\u001b[1;33m\u001b[0m\u001b[1;33m\u001b[0m\u001b[0m\n\u001b[0;32m     28\u001b[0m     \u001b[1;32mdef\u001b[0m \u001b[0m__eq__\u001b[0m\u001b[1;33m(\u001b[0m\u001b[0mself\u001b[0m\u001b[1;33m,\u001b[0m \u001b[0mother\u001b[0m\u001b[1;33m)\u001b[0m\u001b[1;33m:\u001b[0m\u001b[1;33m\u001b[0m\u001b[1;33m\u001b[0m\u001b[0m\n\u001b[1;32m---> 29\u001b[1;33m         \u001b[1;32mreturn\u001b[0m \u001b[0mself\u001b[0m\u001b[1;33m.\u001b[0m\u001b[0m_cmp_method\u001b[0m\u001b[1;33m(\u001b[0m\u001b[0mother\u001b[0m\u001b[1;33m,\u001b[0m \u001b[0moperator\u001b[0m\u001b[1;33m.\u001b[0m\u001b[0meq\u001b[0m\u001b[1;33m)\u001b[0m\u001b[1;33m\u001b[0m\u001b[1;33m\u001b[0m\u001b[0m\n\u001b[0m\u001b[0;32m     30\u001b[0m \u001b[1;33m\u001b[0m\u001b[0m\n\u001b[0;32m     31\u001b[0m     \u001b[1;33m@\u001b[0m\u001b[0munpack_zerodim_and_defer\u001b[0m\u001b[1;33m(\u001b[0m\u001b[1;34m\"__ne__\"\u001b[0m\u001b[1;33m)\u001b[0m\u001b[1;33m\u001b[0m\u001b[1;33m\u001b[0m\u001b[0m\n",
      "\u001b[1;32mC:\\ProgramData\\Anaconda3\\lib\\site-packages\\pandas\\core\\frame.py\u001b[0m in \u001b[0;36m_cmp_method\u001b[1;34m(self, other, op)\u001b[0m\n\u001b[0;32m   5966\u001b[0m         \u001b[0maxis\u001b[0m \u001b[1;33m=\u001b[0m \u001b[1;36m1\u001b[0m  \u001b[1;31m# only relevant for Series other case\u001b[0m\u001b[1;33m\u001b[0m\u001b[1;33m\u001b[0m\u001b[0m\n\u001b[0;32m   5967\u001b[0m \u001b[1;33m\u001b[0m\u001b[0m\n\u001b[1;32m-> 5968\u001b[1;33m         \u001b[0mself\u001b[0m\u001b[1;33m,\u001b[0m \u001b[0mother\u001b[0m \u001b[1;33m=\u001b[0m \u001b[0mops\u001b[0m\u001b[1;33m.\u001b[0m\u001b[0malign_method_FRAME\u001b[0m\u001b[1;33m(\u001b[0m\u001b[0mself\u001b[0m\u001b[1;33m,\u001b[0m \u001b[0mother\u001b[0m\u001b[1;33m,\u001b[0m \u001b[0maxis\u001b[0m\u001b[1;33m,\u001b[0m \u001b[0mflex\u001b[0m\u001b[1;33m=\u001b[0m\u001b[1;32mFalse\u001b[0m\u001b[1;33m,\u001b[0m \u001b[0mlevel\u001b[0m\u001b[1;33m=\u001b[0m\u001b[1;32mNone\u001b[0m\u001b[1;33m)\u001b[0m\u001b[1;33m\u001b[0m\u001b[1;33m\u001b[0m\u001b[0m\n\u001b[0m\u001b[0;32m   5969\u001b[0m \u001b[1;33m\u001b[0m\u001b[0m\n\u001b[0;32m   5970\u001b[0m         \u001b[1;31m# See GH#4537 for discussion of scalar op behavior\u001b[0m\u001b[1;33m\u001b[0m\u001b[1;33m\u001b[0m\u001b[1;33m\u001b[0m\u001b[0m\n",
      "\u001b[1;32mC:\\ProgramData\\Anaconda3\\lib\\site-packages\\pandas\\core\\ops\\__init__.py\u001b[0m in \u001b[0;36malign_method_FRAME\u001b[1;34m(left, right, axis, flex, level)\u001b[0m\n\u001b[0;32m    288\u001b[0m             \u001b[0mright\u001b[0m\u001b[1;33m,\u001b[0m \u001b[0mjoin\u001b[0m\u001b[1;33m=\u001b[0m\u001b[1;34m\"outer\"\u001b[0m\u001b[1;33m,\u001b[0m \u001b[0maxis\u001b[0m\u001b[1;33m=\u001b[0m\u001b[0maxis\u001b[0m\u001b[1;33m,\u001b[0m \u001b[0mlevel\u001b[0m\u001b[1;33m=\u001b[0m\u001b[0mlevel\u001b[0m\u001b[1;33m,\u001b[0m \u001b[0mcopy\u001b[0m\u001b[1;33m=\u001b[0m\u001b[1;32mFalse\u001b[0m\u001b[1;33m\u001b[0m\u001b[1;33m\u001b[0m\u001b[0m\n\u001b[0;32m    289\u001b[0m         )\n\u001b[1;32m--> 290\u001b[1;33m         \u001b[0mright\u001b[0m \u001b[1;33m=\u001b[0m \u001b[0m_maybe_align_series_as_frame\u001b[0m\u001b[1;33m(\u001b[0m\u001b[0mleft\u001b[0m\u001b[1;33m,\u001b[0m \u001b[0mright\u001b[0m\u001b[1;33m,\u001b[0m \u001b[0maxis\u001b[0m\u001b[1;33m)\u001b[0m\u001b[1;33m\u001b[0m\u001b[1;33m\u001b[0m\u001b[0m\n\u001b[0m\u001b[0;32m    291\u001b[0m \u001b[1;33m\u001b[0m\u001b[0m\n\u001b[0;32m    292\u001b[0m     \u001b[1;32mreturn\u001b[0m \u001b[0mleft\u001b[0m\u001b[1;33m,\u001b[0m \u001b[0mright\u001b[0m\u001b[1;33m\u001b[0m\u001b[1;33m\u001b[0m\u001b[0m\n",
      "\u001b[1;32mC:\\ProgramData\\Anaconda3\\lib\\site-packages\\pandas\\core\\ops\\__init__.py\u001b[0m in \u001b[0;36m_maybe_align_series_as_frame\u001b[1;34m(frame, series, axis)\u001b[0m\n\u001b[0;32m    388\u001b[0m \u001b[1;33m\u001b[0m\u001b[0m\n\u001b[0;32m    389\u001b[0m     \u001b[0mrvalues\u001b[0m \u001b[1;33m=\u001b[0m \u001b[0mnp\u001b[0m\u001b[1;33m.\u001b[0m\u001b[0mbroadcast_to\u001b[0m\u001b[1;33m(\u001b[0m\u001b[0mrvalues\u001b[0m\u001b[1;33m,\u001b[0m \u001b[0mframe\u001b[0m\u001b[1;33m.\u001b[0m\u001b[0mshape\u001b[0m\u001b[1;33m)\u001b[0m\u001b[1;33m\u001b[0m\u001b[1;33m\u001b[0m\u001b[0m\n\u001b[1;32m--> 390\u001b[1;33m     \u001b[1;32mreturn\u001b[0m \u001b[0mtype\u001b[0m\u001b[1;33m(\u001b[0m\u001b[0mframe\u001b[0m\u001b[1;33m)\u001b[0m\u001b[1;33m(\u001b[0m\u001b[0mrvalues\u001b[0m\u001b[1;33m,\u001b[0m \u001b[0mindex\u001b[0m\u001b[1;33m=\u001b[0m\u001b[0mframe\u001b[0m\u001b[1;33m.\u001b[0m\u001b[0mindex\u001b[0m\u001b[1;33m,\u001b[0m \u001b[0mcolumns\u001b[0m\u001b[1;33m=\u001b[0m\u001b[0mframe\u001b[0m\u001b[1;33m.\u001b[0m\u001b[0mcolumns\u001b[0m\u001b[1;33m)\u001b[0m\u001b[1;33m\u001b[0m\u001b[1;33m\u001b[0m\u001b[0m\n\u001b[0m\u001b[0;32m    391\u001b[0m \u001b[1;33m\u001b[0m\u001b[0m\n\u001b[0;32m    392\u001b[0m \u001b[1;33m\u001b[0m\u001b[0m\n",
      "\u001b[1;32mC:\\ProgramData\\Anaconda3\\lib\\site-packages\\pandas\\core\\frame.py\u001b[0m in \u001b[0;36m__init__\u001b[1;34m(self, data, index, columns, dtype, copy)\u001b[0m\n\u001b[0;32m    556\u001b[0m                 \u001b[0mmgr\u001b[0m \u001b[1;33m=\u001b[0m \u001b[0minit_dict\u001b[0m\u001b[1;33m(\u001b[0m\u001b[1;33m{\u001b[0m\u001b[0mdata\u001b[0m\u001b[1;33m.\u001b[0m\u001b[0mname\u001b[0m\u001b[1;33m:\u001b[0m \u001b[0mdata\u001b[0m\u001b[1;33m}\u001b[0m\u001b[1;33m,\u001b[0m \u001b[0mindex\u001b[0m\u001b[1;33m,\u001b[0m \u001b[0mcolumns\u001b[0m\u001b[1;33m,\u001b[0m \u001b[0mdtype\u001b[0m\u001b[1;33m=\u001b[0m\u001b[0mdtype\u001b[0m\u001b[1;33m)\u001b[0m\u001b[1;33m\u001b[0m\u001b[1;33m\u001b[0m\u001b[0m\n\u001b[0;32m    557\u001b[0m             \u001b[1;32melse\u001b[0m\u001b[1;33m:\u001b[0m\u001b[1;33m\u001b[0m\u001b[1;33m\u001b[0m\u001b[0m\n\u001b[1;32m--> 558\u001b[1;33m                 \u001b[0mmgr\u001b[0m \u001b[1;33m=\u001b[0m \u001b[0minit_ndarray\u001b[0m\u001b[1;33m(\u001b[0m\u001b[0mdata\u001b[0m\u001b[1;33m,\u001b[0m \u001b[0mindex\u001b[0m\u001b[1;33m,\u001b[0m \u001b[0mcolumns\u001b[0m\u001b[1;33m,\u001b[0m \u001b[0mdtype\u001b[0m\u001b[1;33m=\u001b[0m\u001b[0mdtype\u001b[0m\u001b[1;33m,\u001b[0m \u001b[0mcopy\u001b[0m\u001b[1;33m=\u001b[0m\u001b[0mcopy\u001b[0m\u001b[1;33m)\u001b[0m\u001b[1;33m\u001b[0m\u001b[1;33m\u001b[0m\u001b[0m\n\u001b[0m\u001b[0;32m    559\u001b[0m \u001b[1;33m\u001b[0m\u001b[0m\n\u001b[0;32m    560\u001b[0m         \u001b[1;31m# For data is list-like, or Iterable (will consume into list)\u001b[0m\u001b[1;33m\u001b[0m\u001b[1;33m\u001b[0m\u001b[1;33m\u001b[0m\u001b[0m\n",
      "\u001b[1;32mC:\\ProgramData\\Anaconda3\\lib\\site-packages\\pandas\\core\\internals\\construction.py\u001b[0m in \u001b[0;36minit_ndarray\u001b[1;34m(values, index, columns, dtype, copy)\u001b[0m\n\u001b[0;32m    217\u001b[0m             \u001b[1;31m# transpose and separate blocks\u001b[0m\u001b[1;33m\u001b[0m\u001b[1;33m\u001b[0m\u001b[1;33m\u001b[0m\u001b[0m\n\u001b[0;32m    218\u001b[0m \u001b[1;33m\u001b[0m\u001b[0m\n\u001b[1;32m--> 219\u001b[1;33m             \u001b[0mdvals_list\u001b[0m \u001b[1;33m=\u001b[0m \u001b[1;33m[\u001b[0m\u001b[0mmaybe_infer_to_datetimelike\u001b[0m\u001b[1;33m(\u001b[0m\u001b[0mrow\u001b[0m\u001b[1;33m)\u001b[0m \u001b[1;32mfor\u001b[0m \u001b[0mrow\u001b[0m \u001b[1;32min\u001b[0m \u001b[0mvalues\u001b[0m\u001b[1;33m]\u001b[0m\u001b[1;33m\u001b[0m\u001b[1;33m\u001b[0m\u001b[0m\n\u001b[0m\u001b[0;32m    220\u001b[0m             \u001b[1;32mfor\u001b[0m \u001b[0mn\u001b[0m \u001b[1;32min\u001b[0m \u001b[0mrange\u001b[0m\u001b[1;33m(\u001b[0m\u001b[0mlen\u001b[0m\u001b[1;33m(\u001b[0m\u001b[0mdvals_list\u001b[0m\u001b[1;33m)\u001b[0m\u001b[1;33m)\u001b[0m\u001b[1;33m:\u001b[0m\u001b[1;33m\u001b[0m\u001b[1;33m\u001b[0m\u001b[0m\n\u001b[0;32m    221\u001b[0m                 \u001b[1;32mif\u001b[0m \u001b[0misinstance\u001b[0m\u001b[1;33m(\u001b[0m\u001b[0mdvals_list\u001b[0m\u001b[1;33m[\u001b[0m\u001b[0mn\u001b[0m\u001b[1;33m]\u001b[0m\u001b[1;33m,\u001b[0m \u001b[0mnp\u001b[0m\u001b[1;33m.\u001b[0m\u001b[0mndarray\u001b[0m\u001b[1;33m)\u001b[0m\u001b[1;33m:\u001b[0m\u001b[1;33m\u001b[0m\u001b[1;33m\u001b[0m\u001b[0m\n",
      "\u001b[1;32mC:\\ProgramData\\Anaconda3\\lib\\site-packages\\pandas\\core\\internals\\construction.py\u001b[0m in \u001b[0;36m<listcomp>\u001b[1;34m(.0)\u001b[0m\n\u001b[0;32m    217\u001b[0m             \u001b[1;31m# transpose and separate blocks\u001b[0m\u001b[1;33m\u001b[0m\u001b[1;33m\u001b[0m\u001b[1;33m\u001b[0m\u001b[0m\n\u001b[0;32m    218\u001b[0m \u001b[1;33m\u001b[0m\u001b[0m\n\u001b[1;32m--> 219\u001b[1;33m             \u001b[0mdvals_list\u001b[0m \u001b[1;33m=\u001b[0m \u001b[1;33m[\u001b[0m\u001b[0mmaybe_infer_to_datetimelike\u001b[0m\u001b[1;33m(\u001b[0m\u001b[0mrow\u001b[0m\u001b[1;33m)\u001b[0m \u001b[1;32mfor\u001b[0m \u001b[0mrow\u001b[0m \u001b[1;32min\u001b[0m \u001b[0mvalues\u001b[0m\u001b[1;33m]\u001b[0m\u001b[1;33m\u001b[0m\u001b[1;33m\u001b[0m\u001b[0m\n\u001b[0m\u001b[0;32m    220\u001b[0m             \u001b[1;32mfor\u001b[0m \u001b[0mn\u001b[0m \u001b[1;32min\u001b[0m \u001b[0mrange\u001b[0m\u001b[1;33m(\u001b[0m\u001b[0mlen\u001b[0m\u001b[1;33m(\u001b[0m\u001b[0mdvals_list\u001b[0m\u001b[1;33m)\u001b[0m\u001b[1;33m)\u001b[0m\u001b[1;33m:\u001b[0m\u001b[1;33m\u001b[0m\u001b[1;33m\u001b[0m\u001b[0m\n\u001b[0;32m    221\u001b[0m                 \u001b[1;32mif\u001b[0m \u001b[0misinstance\u001b[0m\u001b[1;33m(\u001b[0m\u001b[0mdvals_list\u001b[0m\u001b[1;33m[\u001b[0m\u001b[0mn\u001b[0m\u001b[1;33m]\u001b[0m\u001b[1;33m,\u001b[0m \u001b[0mnp\u001b[0m\u001b[1;33m.\u001b[0m\u001b[0mndarray\u001b[0m\u001b[1;33m)\u001b[0m\u001b[1;33m:\u001b[0m\u001b[1;33m\u001b[0m\u001b[1;33m\u001b[0m\u001b[0m\n",
      "\u001b[1;31mKeyboardInterrupt\u001b[0m: "
     ]
    }
   ],
   "source": [
    "df_get_dong = road_to_adstrd_cd(df_road_sample)\n"
   ]
  },
  {
   "cell_type": "code",
   "execution_count": 22,
   "id": "710630ea",
   "metadata": {},
   "outputs": [
    {
     "data": {
      "text/plain": [
       "RangeIndex(start=0, stop=300, step=1)"
      ]
     },
     "execution_count": 22,
     "metadata": {},
     "output_type": "execute_result"
    }
   ],
   "source": [
    "df_road_sample.index"
   ]
  },
  {
   "cell_type": "code",
   "execution_count": 25,
   "id": "e07fc809",
   "metadata": {},
   "outputs": [],
   "source": [
    "adstrd_cd = df_road[df_road['rd_nm']==df_road_sample[0]]['adstrd_cd'].iloc[0]\n"
   ]
  },
  {
   "cell_type": "code",
   "execution_count": 38,
   "id": "f55c7d2e",
   "metadata": {},
   "outputs": [
    {
     "data": {
      "text/plain": [
       "4136056500.0"
      ]
     },
     "execution_count": 38,
     "metadata": {},
     "output_type": "execute_result"
    }
   ],
   "source": [
    "adstrd_cd"
   ]
  },
  {
   "cell_type": "code",
   "execution_count": 49,
   "id": "5f1d099c",
   "metadata": {},
   "outputs": [],
   "source": [
    "df_road_sample[0] = df_dong[df_dong['admn_inst_cd']==adstrd_cd]"
   ]
  },
  {
   "cell_type": "code",
   "execution_count": 50,
   "id": "5a692722",
   "metadata": {
    "scrolled": true
   },
   "outputs": [
    {
     "data": {
      "text/plain": [
       "0              lgdng_cd ctpv_nm ctgg_nm adstrd_nm    ...\n",
       "1                                                  가운로1길\n",
       "2                                                  가운로1길\n",
       "3                                               경춘로859번길\n",
       "4                                                덕송2로6번길\n",
       "                             ...                        \n",
       "295                                           일주서로3000번길\n",
       "296                                           일주서로3000번길\n",
       "297                                           일주서로3000번길\n",
       "298                                               도금단지2길\n",
       "299                                             무섬로234번길\n",
       "Name: rd_nm, Length: 300, dtype: object"
      ]
     },
     "execution_count": 50,
     "metadata": {},
     "output_type": "execute_result"
    }
   ],
   "source": [
    "df_road_sample"
   ]
  },
  {
   "cell_type": "code",
   "execution_count": 64,
   "id": "7c472891",
   "metadata": {
    "scrolled": true
   },
   "outputs": [],
   "source": [
    "df123 = df_dong[df_dong['admn_inst_cd']==adstrd_cd].iloc[0]['adstrd_nm']"
   ]
  },
  {
   "cell_type": "code",
   "execution_count": 65,
   "id": "2ee45f63",
   "metadata": {},
   "outputs": [
    {
     "data": {
      "text/plain": [
       "'다산2동'"
      ]
     },
     "execution_count": 65,
     "metadata": {},
     "output_type": "execute_result"
    }
   ],
   "source": [
    "df123"
   ]
  },
  {
   "cell_type": "code",
   "execution_count": 18,
   "id": "59c2de79",
   "metadata": {},
   "outputs": [],
   "source": [
    "# df_dong_test = road_to_dong(df_road_sample)"
   ]
  },
  {
   "cell_type": "code",
   "execution_count": 19,
   "id": "fa992482",
   "metadata": {},
   "outputs": [
    {
     "data": {
      "text/plain": [
       "0              lgdng_cd ctpv_nm ctgg_nm adstrd_nm    ...\n",
       "1                                                  가운로1길\n",
       "2                                                  가운로1길\n",
       "3                                               경춘로859번길\n",
       "4                                                덕송2로6번길\n",
       "                             ...                        \n",
       "295                                           일주서로3000번길\n",
       "296                                           일주서로3000번길\n",
       "297                                           일주서로3000번길\n",
       "298                                               도금단지2길\n",
       "299                                             무섬로234번길\n",
       "Name: rd_nm, Length: 300, dtype: object"
      ]
     },
     "execution_count": 19,
     "metadata": {},
     "output_type": "execute_result"
    }
   ],
   "source": [
    "# df_dong_test"
   ]
  },
  {
   "cell_type": "code",
   "execution_count": null,
   "id": "60a445f5",
   "metadata": {},
   "outputs": [],
   "source": []
  },
  {
   "cell_type": "code",
   "execution_count": null,
   "id": "d9098408",
   "metadata": {},
   "outputs": [],
   "source": []
  },
  {
   "cell_type": "code",
   "execution_count": null,
   "id": "8451b8cc",
   "metadata": {},
   "outputs": [],
   "source": []
  },
  {
   "cell_type": "code",
   "execution_count": null,
   "id": "82688cb2",
   "metadata": {},
   "outputs": [],
   "source": []
  },
  {
   "cell_type": "code",
   "execution_count": null,
   "id": "8a8f667b",
   "metadata": {},
   "outputs": [],
   "source": []
  },
  {
   "cell_type": "code",
   "execution_count": null,
   "id": "1d08e222",
   "metadata": {},
   "outputs": [],
   "source": []
  },
  {
   "cell_type": "code",
   "execution_count": null,
   "id": "3ab0aa5e",
   "metadata": {},
   "outputs": [],
   "source": []
  },
  {
   "cell_type": "code",
   "execution_count": null,
   "id": "fdb073a8",
   "metadata": {},
   "outputs": [],
   "source": []
  },
  {
   "cell_type": "code",
   "execution_count": null,
   "id": "2a8dbe7c",
   "metadata": {},
   "outputs": [],
   "source": []
  },
  {
   "cell_type": "code",
   "execution_count": null,
   "id": "272448ba",
   "metadata": {},
   "outputs": [],
   "source": []
  },
  {
   "cell_type": "code",
   "execution_count": null,
   "id": "031a1c52",
   "metadata": {},
   "outputs": [],
   "source": []
  },
  {
   "cell_type": "code",
   "execution_count": null,
   "id": "ff8845cd",
   "metadata": {},
   "outputs": [],
   "source": []
  },
  {
   "cell_type": "code",
   "execution_count": null,
   "id": "34e27541",
   "metadata": {},
   "outputs": [],
   "source": []
  },
  {
   "cell_type": "code",
   "execution_count": null,
   "id": "3ad216e4",
   "metadata": {},
   "outputs": [],
   "source": []
  },
  {
   "cell_type": "code",
   "execution_count": null,
   "id": "deac9bec",
   "metadata": {},
   "outputs": [],
   "source": []
  },
  {
   "cell_type": "code",
   "execution_count": null,
   "id": "0e4f5c33",
   "metadata": {},
   "outputs": [],
   "source": []
  },
  {
   "cell_type": "code",
   "execution_count": null,
   "id": "dedfd91b",
   "metadata": {},
   "outputs": [],
   "source": []
  },
  {
   "cell_type": "code",
   "execution_count": null,
   "id": "15042107",
   "metadata": {},
   "outputs": [],
   "source": []
  },
  {
   "cell_type": "code",
   "execution_count": null,
   "id": "00e63ec9",
   "metadata": {},
   "outputs": [],
   "source": []
  },
  {
   "cell_type": "code",
   "execution_count": null,
   "id": "e77797f6",
   "metadata": {},
   "outputs": [],
   "source": []
  },
  {
   "cell_type": "code",
   "execution_count": null,
   "id": "50fea5ad",
   "metadata": {},
   "outputs": [],
   "source": []
  },
  {
   "cell_type": "code",
   "execution_count": null,
   "id": "a9897c8f",
   "metadata": {},
   "outputs": [],
   "source": []
  },
  {
   "cell_type": "code",
   "execution_count": null,
   "id": "09e4ce73",
   "metadata": {},
   "outputs": [],
   "source": []
  },
  {
   "cell_type": "code",
   "execution_count": null,
   "id": "56c070f4",
   "metadata": {},
   "outputs": [],
   "source": []
  },
  {
   "cell_type": "code",
   "execution_count": null,
   "id": "4495f8b2",
   "metadata": {},
   "outputs": [],
   "source": []
  }
 ],
 "metadata": {
  "kernelspec": {
   "display_name": "Python 3",
   "language": "python",
   "name": "python3"
  },
  "language_info": {
   "codemirror_mode": {
    "name": "ipython",
    "version": 3
   },
   "file_extension": ".py",
   "mimetype": "text/x-python",
   "name": "python",
   "nbconvert_exporter": "python",
   "pygments_lexer": "ipython3",
   "version": "3.8.8"
  }
 },
 "nbformat": 4,
 "nbformat_minor": 5
}
